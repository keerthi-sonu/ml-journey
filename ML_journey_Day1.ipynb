{
  "nbformat": 4,
  "nbformat_minor": 0,
  "metadata": {
    "colab": {
      "provenance": []
    },
    "kernelspec": {
      "name": "python3",
      "display_name": "Python 3"
    },
    "language_info": {
      "name": "python"
    }
  },
  "cells": [
    {
      "cell_type": "markdown",
      "source": [
        "### What is ML in your own words?\n",
        "When a computer learns on its own from data to make decisions or predictions without direclty programmed by humans\n"
      ],
      "metadata": {
        "id": "lVgz9wz9cYmI"
      }
    },
    {
      "cell_type": "markdown",
      "source": [
        "### 3 types of ML with examples?\n",
        "1.Supervised Learning :\n",
        "The model learns form labeled  data\n",
        "ex: email spam detection: label the emails \"spam\" or \"not spam\" to train the modls\n",
        "\n",
        "2.Unsupervised Learning:\n",
        "The model learns from unlabeled data\n",
        "ex:Grouping the custormers based on the there shopping behaviour\n",
        "\n",
        "3.ReinForcement\n",
        "The model learns by trial and error method and receiving rewards\n",
        "eg:for example a bot learing to play chess"
      ],
      "metadata": {
        "id": "BX3JDlDgdrRA"
      }
    },
    {
      "cell_type": "markdown",
      "source": [
        "### What is a model, data and training?\n",
        "Model : If a system make decisions based on the given data\n",
        "Data : The information that we give to system, to train it\n",
        "Training : Itis a process of teaching the system"
      ],
      "metadata": {
        "id": "3yX17wn1iGpG"
      }
    },
    {
      "cell_type": "code",
      "source": [],
      "metadata": {
        "id": "F4DRBhN2iA2C"
      },
      "execution_count": null,
      "outputs": []
    }
  ]
}